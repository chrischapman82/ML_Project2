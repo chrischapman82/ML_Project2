{
 "cells": [
  {
   "cell_type": "code",
   "execution_count": 31,
   "metadata": {
    "collapsed": true
   },
   "outputs": [],
   "source": [
    "# NAIVE BAYES\n",
    "\n",
    "# imports\n",
    "import numpy as np\n",
    "import pandas as pd\n",
    "import re\n",
    "import csv"
   ]
  },
  {
   "cell_type": "code",
   "execution_count": 32,
   "metadata": {
    "collapsed": true
   },
   "outputs": [],
   "source": [
    "# Some neat info\n",
    "headers = ['User_ID,', \"Gender\", \"Age\", \"Occupation\", \"Star_Sign\", \"Date\", \"Text\"]"
   ]
  },
  {
   "cell_type": "code",
   "execution_count": 33,
   "metadata": {
    "collapsed": false
   },
   "outputs": [],
   "source": [
    "# reading in file names etc.\n",
    "PATH = \"proj_data/\"\n",
    "\n",
    "training_data = pd.read_csv(PATH + \"train_raw.csv\")\n",
    "training_data = training_data.values\n",
    "\n",
    "test_data = pd.read_csv(PATH + \"dev_raw.csv\")\n",
    "test_data = test_data.values\n",
    "\n",
    "X_train = (preprocess_X(training_data))  # text vals\n",
    "y_train = preprocess_y(training_data)  # the age values\n",
    "y_train = y_train.astype(int)\n",
    "\n",
    "X_test = preprocess_X(test_data)\n",
    "y_test = preprocess_y(test_data)\n",
    "y_test = y_test.astype(int)\n"
   ]
  },
  {
   "cell_type": "code",
   "execution_count": 34,
   "metadata": {
    "collapsed": false
   },
   "outputs": [],
   "source": [
    "# for TOP 10 data\n",
    "\n",
    "training_top10_data = pd.read_csv(PATH + \"train_top10.csv\")\n",
    "training_top10_data = training_top10_data.values\n",
    "\n",
    "test_top10_data = pd.read_csv(PATH + \"dev_top10.csv\")\n",
    "test_top10_data = test_top10_data.values\n",
    "\n",
    "X_top10_train = training_top10_data[:,1:31]\n",
    "y_top10_train = training_top10_data[:, 31]\n",
    "\n",
    "X_top10_test = test_top10_data[:,1:31]\n",
    "y_top10_test = test_top10_data[:, 31]"
   ]
  },
  {
   "cell_type": "code",
   "execution_count": null,
   "metadata": {
    "collapsed": false
   },
   "outputs": [],
   "source": []
  },
  {
   "cell_type": "code",
   "execution_count": 35,
   "metadata": {
    "collapsed": true
   },
   "outputs": [],
   "source": [
    "def remove_junk_text(text):\n",
    "    text = (str)(text)\n",
    "    text = str.lower(text)\n",
    "    text = re.sub(r'[^a-zA-Z0-9 ]', '', text)\n",
    "    return text\n",
    "\n",
    "\n",
    "# removing all the junk text in for a given thingo\n",
    "def fix_string_array(arr):\n",
    "    \n",
    "    for i in range(arr.shape[0]):\n",
    "        arr[i] = remove_junk_text((str)(arr[i]))\n",
    "    \n",
    "    return arr\n",
    "        #X_test[i] = np.char.lower(X_test[0])\n",
    "        #X_test[i] = \n",
    "#X_test[:,6] = X_test[:,6].lower() #remove_junk_text(X_test[:,6])"
   ]
  },
  {
   "cell_type": "code",
   "execution_count": 36,
   "metadata": {
    "collapsed": true
   },
   "outputs": [],
   "source": [
    "# Preprocessing\n",
    "\n",
    "def preprocess_X(data):\n",
    "    \n",
    "    X = data[:,6]\n",
    "    return fix_string_array(X)\n",
    "\n",
    "def preprocess_y(data):\n",
    "    y = data[:,2]\n",
    "    return y"
   ]
  },
  {
   "cell_type": "code",
   "execution_count": null,
   "metadata": {
    "collapsed": true
   },
   "outputs": [],
   "source": []
  },
  {
   "cell_type": "code",
   "execution_count": 37,
   "metadata": {
    "collapsed": true
   },
   "outputs": [],
   "source": [
    "def get_distinct_col_vals(lst, col_num):\n",
    "    new_lst = []\n",
    "    for row in lst:\n",
    "        new_lst.append(row[col_num])\n",
    "    return get_distinct_vals(new_lst)\n",
    "\n",
    "def get_distinct_vals(list1):\n",
    "    list1 = set(list1)\n",
    "    return list1\n",
    "\n",
    "\n",
    "#get_distinct_col_vals(data, 2)\n"
   ]
  },
  {
   "cell_type": "code",
   "execution_count": null,
   "metadata": {
    "collapsed": true
   },
   "outputs": [],
   "source": []
  },
  {
   "cell_type": "code",
   "execution_count": 38,
   "metadata": {
    "collapsed": false
   },
   "outputs": [],
   "source": [
    "from sklearn.feature_extraction.text import CountVectorizer\n",
    "vectoriser = CountVectorizer()\n",
    "X_train_dict = vectoriser.fit_transform(X_train)\n",
    "X_test_dict = vectoriser.transform(X_test)\n"
   ]
  },
  {
   "cell_type": "code",
   "execution_count": 39,
   "metadata": {
    "collapsed": false
   },
   "outputs": [
    {
     "data": {
      "text/plain": [
       "(276414, 705820)"
      ]
     },
     "execution_count": 39,
     "metadata": {},
     "output_type": "execute_result"
    }
   ],
   "source": [
    "# This should re\n",
    "from sklearn.feature_extraction.text import TfidfTransformer\n",
    "tfidf_transformer = TfidfTransformer()\n",
    "X_train_tfidf = tfidf_transformer.fit_transform(X_train_dict)\n",
    "X_train_tfidf.shape\n"
   ]
  },
  {
   "cell_type": "code",
   "execution_count": 40,
   "metadata": {
    "collapsed": false
   },
   "outputs": [],
   "source": [
    "# Building a pipeline: We can write less code and do all of the above, by building a pipeline as follows:\n",
    "# The names ‘vect’ , ‘tfidf’ and ‘clf’ are arbitrary but will be used later.\n",
    "# We will be using the 'text_clf' going forward.\n",
    "from sklearn.pipeline import Pipeline\n",
    "from sklearn.naive_bayes import MultinomialNB\n",
    "text_clf = Pipeline([('vect', CountVectorizer()), ('tfidf', TfidfTransformer()), ('clf', MultinomialNB())])\n",
    "\n",
    "text_clf = text_clf.fit(X_train, y_train)"
   ]
  },
  {
   "cell_type": "code",
   "execution_count": 41,
   "metadata": {
    "collapsed": false
   },
   "outputs": [],
   "source": [
    "#from sklearn.naive_bayes import MultinomialNB\n",
    "#clf = MultinomialNB()\n",
    "#clf.fit(X_train_tfidf, y_train)"
   ]
  },
  {
   "cell_type": "code",
   "execution_count": 42,
   "metadata": {
    "collapsed": false
   },
   "outputs": [
    {
     "data": {
      "text/plain": [
       "0.19714985330127285"
      ]
     },
     "execution_count": 42,
     "metadata": {},
     "output_type": "execute_result"
    }
   ],
   "source": [
    "# Performance of NB Classifier\n",
    "#X_test\n",
    "predicted = text_clf.predict(X_test)\n",
    "np.mean(predicted == y_test)\n",
    "#predicted"
   ]
  },
  {
   "cell_type": "code",
   "execution_count": 43,
   "metadata": {
    "collapsed": false
   },
   "outputs": [
    {
     "name": "stderr",
     "output_type": "stream",
     "text": [
      "/Users/chris/anaconda/lib/python3.6/site-packages/sklearn/linear_model/stochastic_gradient.py:117: DeprecationWarning: n_iter parameter is deprecated in 0.19 and will be removed in 0.21. Use max_iter and tol instead.\n",
      "  DeprecationWarning)\n"
     ]
    },
    {
     "data": {
      "text/plain": [
       "0.20458405947364938"
      ]
     },
     "execution_count": 43,
     "metadata": {},
     "output_type": "execute_result"
    }
   ],
   "source": [
    "# Training Support Vector Machines - SVM and calculating its performance\n",
    "\n",
    "from sklearn.linear_model import SGDClassifier\n",
    "text_clf_svm = Pipeline([('vect', CountVectorizer()), ('tfidf', TfidfTransformer()),\n",
    "                         ('clf-svm', SGDClassifier(loss='hinge', penalty='l2',alpha=1e-3, n_iter=5, random_state=42))])\n",
    "\n",
    "text_clf_svm = text_clf_svm.fit(X_train, y_train)\n",
    "predicted_svm = text_clf_svm.predict(X_test)\n",
    "np.mean(predicted_svm == y_test)"
   ]
  },
  {
   "cell_type": "code",
   "execution_count": null,
   "metadata": {
    "collapsed": true
   },
   "outputs": [],
   "source": [
    "#X_top10_train = X_top10_train[0:500]\n",
    "#y_top10_train = y_top10_train[0:500]\n",
    "\n",
    "#X_top10_test = X_top10_test[0:500]\n",
    "#y_top10_test = y_top10_test[0:500]"
   ]
  },
  {
   "cell_type": "code",
   "execution_count": null,
   "metadata": {
    "collapsed": false
   },
   "outputs": [],
   "source": [
    "from sklearn.neighbors import KNeighborsClassifier\n",
    "neigh = KNeighborsClassifier(n_neighbors=3)\n",
    "neigh.fit(X_top10_train, y_top10_train)\n"
   ]
  },
  {
   "cell_type": "code",
   "execution_count": null,
   "metadata": {
    "collapsed": false
   },
   "outputs": [],
   "source": [
    "predicted = neigh.predict(X_top10_test)\n",
    "#predicted\n",
    "np.mean(predicted == y_top10_test)"
   ]
  },
  {
   "cell_type": "code",
   "execution_count": null,
   "metadata": {
    "collapsed": false
   },
   "outputs": [],
   "source": [
    "'''\n",
    "n cases where the data is not uniformly sampled, \n",
    "radius-based neighbors classification in RadiusNeighborsClassifier can be a \n",
    "better choice. The user specifies a fixed radius r, \n",
    "such that points in sparser neighborhoods use fewer nearest neighbors \n",
    "for the classification. For high-dimensional parameter spaces, this method becomes \n",
    "less effective due to the so-called “curse of dimensionality”.\n",
    "\n",
    "'''"
   ]
  },
  {
   "cell_type": "code",
   "execution_count": null,
   "metadata": {
    "collapsed": false
   },
   "outputs": [],
   "source": [
    "# Choosing better features\n",
    "from sklearn.neighbors import KNeighborsClassifier\n",
    "neigh = KNeighborsClassifier(n_neighbors=3)\n",
    "neigh.fit(X_top10_train[, y_top10_train)"
   ]
  },
  {
   "cell_type": "code",
   "execution_count": null,
   "metadata": {
    "collapsed": false
   },
   "outputs": [],
   "source": [
    "X_top10_train[:3]"
   ]
  },
  {
   "cell_type": "code",
   "execution_count": null,
   "metadata": {
    "collapsed": true
   },
   "outputs": [],
   "source": [
    "def transform_age(age):\n",
    "    if age < 18:\n",
    "        return '14-16'\n",
    "    elif age < 28:\n",
    "        return '24-26'\n",
    "    elif age < 38:\n",
    "        return '34-36'\n",
    "    else:\n",
    "        return '44-46'\n",
    "    \n",
    "    \n",
    "    # TODO at some point need to join together people with the same id"
   ]
  },
  {
   "cell_type": "code",
   "execution_count": null,
   "metadata": {
    "collapsed": true
   },
   "outputs": [],
   "source": [
    "# TODO ctrl F \"Cross Validation\" https://kevinzakka.github.io/2016/07/13/k-nearest-neighbor/#more-on-k \n"
   ]
  }
 ],
 "metadata": {
  "kernelspec": {
   "display_name": "Python 3",
   "language": "python",
   "name": "python3"
  },
  "language_info": {
   "codemirror_mode": {
    "name": "ipython",
    "version": 3
   },
   "file_extension": ".py",
   "mimetype": "text/x-python",
   "name": "python",
   "nbconvert_exporter": "python",
   "pygments_lexer": "ipython3",
   "version": "3.6.0"
  }
 },
 "nbformat": 4,
 "nbformat_minor": 2
}
