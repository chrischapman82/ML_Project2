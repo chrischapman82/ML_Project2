{
 "cells": [
  {
   "cell_type": "code",
   "execution_count": 1,
   "metadata": {
    "collapsed": true
   },
   "outputs": [],
   "source": [
    "# Importing libraries\n",
    "\n",
    "import numpy as np\n",
    "import pandas as pd\n",
    "import re\n",
    "import csv\n",
    "from sklearn.metrics import confusion_matrix"
   ]
  },
  {
   "cell_type": "code",
   "execution_count": 2,
   "metadata": {
    "collapsed": true
   },
   "outputs": [],
   "source": [
    "# Header information\n",
    "headers = ['User_ID,', \"Gender\", \"Age\", \"Occupation\", \"Star_Sign\", \"Date\", \"Text\"]"
   ]
  },
  {
   "cell_type": "code",
   "execution_count": 3,
   "metadata": {
    "collapsed": true
   },
   "outputs": [],
   "source": [
    "# Preprocessing steps\n",
    "\n",
    "def preprocess_X(data):\n",
    "    \n",
    "    X = data[:,6]\n",
    "    return fix_string_array(X)\n",
    "\n",
    "def preprocess_y(data):\n",
    "    y = data[:,2]\n",
    "    return y\n",
    "\n",
    "def remove_junk_text(text):\n",
    "    text = (str)(text)\n",
    "    text = str.lower(text)\n",
    "    text = re.sub(r'[^a-zA-Z0-9 ]', '', text)\n",
    "    return text\n",
    "\n",
    "\n",
    "# removing all the junk text in for a given thingo\n",
    "def fix_string_array(arr):\n",
    "    \n",
    "    for i in range(arr.shape[0]):\n",
    "        arr[i] = remove_junk_text((str)(arr[i]))\n",
    "    \n",
    "    return arr\n",
    "        #X_test[i] = np.char.lower(X_test[0])\n",
    "        #X_test[i] = \n",
    "#X_test[:,6] = X_test[:,6].lower() #remove_junk_text(X_test[:,6])"
   ]
  },
  {
   "cell_type": "code",
   "execution_count": 4,
   "metadata": {
    "collapsed": true
   },
   "outputs": [],
   "source": [
    "def get_distinct_col_vals(lst, col_num):\n",
    "    new_lst = []\n",
    "    for row in lst:\n",
    "        new_lst.append(row[col_num])\n",
    "    return get_distinct_vals(new_lst)\n",
    "\n",
    "def get_distinct_vals(list1):\n",
    "    list1 = set(list1)\n",
    "    return list1\n",
    "\n",
    "\n",
    "#get_distinct_col_vals(data, 2)\n"
   ]
  },
  {
   "cell_type": "code",
   "execution_count": null,
   "metadata": {
    "collapsed": true
   },
   "outputs": [],
   "source": []
  },
  {
   "cell_type": "code",
   "execution_count": 5,
   "metadata": {
    "collapsed": true
   },
   "outputs": [],
   "source": [
    "# reading in file names etc.\n",
    "PATH = \"proj_data/\"\n",
    "\n",
    "training_data = pd.read_csv(PATH + \"train_raw.csv\")\n",
    "training_data = training_data.values\n",
    "\n",
    "test_data = pd.read_csv(PATH + \"dev_raw.csv\")\n",
    "test_data = test_data.values\n",
    "\n",
    "X_train = (preprocess_X(training_data))  # text vals\n",
    "y_train = preprocess_y(training_data)  # the age values\n",
    "y_train = y_train.astype(int)\n",
    "\n",
    "X_test = preprocess_X(test_data)\n",
    "y_test = preprocess_y(test_data)\n",
    "y_test = y_test.astype(int)\n"
   ]
  },
  {
   "cell_type": "code",
   "execution_count": 6,
   "metadata": {
    "collapsed": true
   },
   "outputs": [],
   "source": [
    "# for TOP 10 data\n",
    "\n",
    "training_top10_data = pd.read_csv(PATH + \"train_top10.csv\")\n",
    "training_top10_data = training_top10_data.values\n",
    "\n",
    "test_top10_data = pd.read_csv(PATH + \"dev_top10.csv\")\n",
    "test_top10_data = test_top10_data.values\n",
    "\n",
    "X_top10_train = training_top10_data[:,1:31]\n",
    "y_top10_train = training_top10_data[:, 31]\n",
    "\n",
    "X_top10_test = test_top10_data[:,1:31]\n",
    "y_top10_test = test_top10_data[:, 31]"
   ]
  },
  {
   "cell_type": "code",
   "execution_count": 7,
   "metadata": {
    "collapsed": false
   },
   "outputs": [],
   "source": [
    "# for final test data\n",
    "FINAL_PATH = \"COMP30027_2018S1_proj2-test/\"\n",
    "final_raw = FINAL_PATH + \"test_raw.csv\"\n",
    "final_top10 = FINAL_PATH + \"test_top10.csv\"\n",
    "\n",
    "\n",
    "final_data_raw = pd.read_csv(final_raw)\n",
    "final_data_top10 = pd.read_csv(final_top10)\n",
    "\n",
    "final_raw = final_data_raw.values\n",
    "final_top10 = final_data_top10.values\n",
    "\n",
    "X_final_raw = preprocess_X(final_raw)\n",
    "y_final_raw = preprocess_y(final_raw)\n",
    "\n",
    "\n",
    "X_final_top10 = final_top10[:,1:31]\n",
    "y_final_top10 = final_top10[:, 31]\n",
    "#X_final_top10 = "
   ]
  },
  {
   "cell_type": "code",
   "execution_count": null,
   "metadata": {
    "collapsed": false
   },
   "outputs": [],
   "source": []
  },
  {
   "cell_type": "code",
   "execution_count": 38,
   "metadata": {
    "collapsed": true
   },
   "outputs": [],
   "source": [
    "# Taken from Workshop 7\n",
    "# https://app.lms.unimelb.edu.au/bbcswebdav/pid-6672341-dt-content-rid-35222385_2/courses/COMP30027_2018_SM1/workshops/prac-07.pdf\n",
    "\n",
    "from sklearn.feature_extraction.text import CountVectorizer\n",
    "vectoriser = CountVectorizer()\n",
    "X_train_dict = vectoriser.fit_transform(X_train)\n",
    "X_test_dict = vectoriser.transform(X_test)\n"
   ]
  },
  {
   "cell_type": "code",
   "execution_count": 39,
   "metadata": {
    "collapsed": false
   },
   "outputs": [
    {
     "data": {
      "text/plain": [
       "(276414, 705820)"
      ]
     },
     "execution_count": 39,
     "metadata": {},
     "output_type": "execute_result"
    }
   ],
   "source": [
    "# Used to transform the values to TF-IDF features.\n",
    "from sklearn.feature_extraction.text import TfidfTransformer\n",
    "tfidf_transformer = TfidfTransformer()\n",
    "X_train_dict = tfidf_transformer.fit_transform(X_train_dict)\n",
    "X_train_dict.shape"
   ]
  },
  {
   "cell_type": "code",
   "execution_count": 40,
   "metadata": {
    "collapsed": false
   },
   "outputs": [],
   "source": [
    "# Creating the Naive Bayes Classifier\n",
    "\n",
    "from sklearn.naive_bayes import MultinomialNB\n",
    "#text_clf = Pipeline([('vect', CountVectorizer()), ('tfidf', TfidfTransformer()), ('clf', MultinomialNB())])\n",
    "\n",
    "vectoriser = CountVectorizer()\n",
    "X_train_NB = vectoriser.fit_transform(X_train)\n",
    "X_test_NB = vectoriser.fit_transform(X_test)\n",
    "\n",
    "tfidf_transformer = TfidfTransformer()\n",
    "X_train_NB = tfidf_transformer.fit_transform(X_train_NB)\n",
    "X_test_NB = tfidf_transformer.fit_transform(X_test_NB)\n",
    "\n",
    "MultiNB = MultinomialNB()\n",
    "NB_classifier = MultinomialNB().fit(X_train_NB, y_train)\n",
    "#NB_classifier = MultinomialNB().fit(X_test_NB, y_test)\n",
    "#NB_classifier = NB_classifier.fit(X_train_dict, y_train)"
   ]
  },
  {
   "cell_type": "code",
   "execution_count": 41,
   "metadata": {
    "collapsed": false
   },
   "outputs": [],
   "source": [
    "#NB_classifier = MultinomialNB().fit(X_test, (y_train))\n",
    "NB_classifier = NB_classifier.fit(X_train_NB, y_train)\n",
    "#y_train"
   ]
  },
  {
   "cell_type": "code",
   "execution_count": 42,
   "metadata": {
    "collapsed": false
   },
   "outputs": [],
   "source": [
    "# Created pipeline with help from: \n",
    "# https://blog.sicara.com/naive-bayes-classifier-sklearn-python-example-tips-42d100429e44\n",
    "from sklearn.pipeline import Pipeline\n",
    "from sklearn.naive_bayes import MultinomialNB\n",
    "text_clf = Pipeline([('vect', CountVectorizer()), ('tfidf', TfidfTransformer()), ('clf', MultinomialNB())])\n",
    "\n",
    "txt_clf = text_clf.fit(X_train, y_train)"
   ]
  },
  {
   "cell_type": "code",
   "execution_count": null,
   "metadata": {
    "collapsed": false
   },
   "outputs": [
    {
     "data": {
      "text/plain": [
       "0.19714985330127285"
      ]
     },
     "execution_count": 43,
     "metadata": {},
     "output_type": "execute_result"
    }
   ],
   "source": [
    "from sklearn.metrics import accuracy_score\n",
    "# How often it was right on the money about the age\n",
    "predicted = txt_clf.predict(X_test)\n",
    "accuracy_score(predicted,y_test)"
   ]
  },
  {
   "cell_type": "code",
   "execution_count": 14,
   "metadata": {
    "collapsed": false
   },
   "outputs": [
    {
     "data": {
      "text/plain": [
       "array([[   0,    0,    0,    0,    0,    0,    0,    0,    0,    0,    0,\n",
       "           0,    0,    0,    0,    0,    0,    0,    0,    0,    0,    0,\n",
       "           0,    0,    0,    0],\n",
       "       [   0,    9,    4,    0,    0,    2,    0,    0,    0,    0,    0,\n",
       "           0,    0,    0,    0,    0,    0,    0,    0,    0,    0,    0,\n",
       "           0,    0,    0,    0],\n",
       "       [   0,   33,   26,   51,    3,    2,    2,    1,    1,    2,    1,\n",
       "           0,    1,    0,    0,    0,    0,    0,    0,    0,    0,    0,\n",
       "           0,    0,    0,    0],\n",
       "       [ 110,  957, 1030, 2140,  998,   96,  275,  129,  125,   50,   21,\n",
       "           5,   11,    3,    1,    0,    5,    5,    1,    4,    0,    0,\n",
       "           2,    7,    4,    0],\n",
       "       [   0,    0,    0,    0,    0,    0,    0,    0,    0,    0,    0,\n",
       "           0,    0,    0,    0,    0,    0,    0,    0,    0,    0,    0,\n",
       "           0,    0,    0,    0],\n",
       "       [   0,    0,    0,    0,    0,    0,    0,    0,    0,    0,    0,\n",
       "           0,    0,    0,    0,    0,    0,    0,    0,    0,    0,    0,\n",
       "           0,    0,    0,    0],\n",
       "       [ 231, 2411, 2294, 4064, 3133, 2109, 6678, 5682, 4122, 1717,  827,\n",
       "         756, 1307,  484,  215,  217,  443,  751,  185,  187,  150,  114,\n",
       "         315,  101,  160,   36],\n",
       "       [   0,   16,   26,   26,   17,   43,   94,   69,   59,    9,   12,\n",
       "           3,    6,    6,    4,    1,    0,   11,    0,    2,    0,    6,\n",
       "           1,    2,    5,    1],\n",
       "       [   0,    4,    1,    8,    0,   14,   15,   30,   15,    5,    2,\n",
       "           0,    1,    1,    0,    0,    0,    3,    1,    0,    0,    0,\n",
       "           2,    1,    3,    0],\n",
       "       [   0,    0,    0,    0,    0,    0,    0,    0,    0,    0,    0,\n",
       "           0,    0,    0,    0,    0,    0,    0,    0,    0,    0,    0,\n",
       "           0,    0,    0,    0],\n",
       "       [   0,    0,    0,    0,    0,    0,    0,    0,    0,    0,    0,\n",
       "           0,    0,    0,    0,    0,    0,    0,    0,    0,    0,    0,\n",
       "           0,    0,    0,    0],\n",
       "       [   0,    0,    0,    0,    0,    0,    0,    0,    0,    0,    0,\n",
       "           0,    0,    0,    0,    0,    0,    0,    0,    0,    0,    0,\n",
       "           0,    0,    0,    0],\n",
       "       [   0,    0,    0,    0,    0,    0,    0,    0,    0,    0,    0,\n",
       "           0,    0,    0,    0,    0,    0,    0,    0,    0,    0,    0,\n",
       "           0,    0,    0,    0],\n",
       "       [   0,    0,    0,    0,    0,    0,    0,    0,    0,    0,    0,\n",
       "           0,    0,    0,    0,    0,    0,    0,    0,    0,    0,    0,\n",
       "           0,    0,    0,    0],\n",
       "       [   0,    0,    0,    0,    0,    0,    0,    0,    0,    0,    0,\n",
       "           0,    0,    0,    0,    0,    0,    0,    0,    0,    0,    0,\n",
       "           0,    0,    0,    0],\n",
       "       [   0,    0,    0,    0,    0,    0,    0,    0,    0,    0,    0,\n",
       "           0,    0,    0,    0,    0,    0,    0,    0,    0,    0,    0,\n",
       "           0,    0,    0,    0],\n",
       "       [   0,    0,    0,    0,    0,    0,    0,    0,    0,    0,    0,\n",
       "           0,    0,    0,    0,    0,    0,    0,    0,    0,    0,    0,\n",
       "           0,    0,    0,    0],\n",
       "       [   0,    0,    0,    0,    0,    0,    0,    0,    0,    0,    0,\n",
       "           0,    0,    0,    0,    0,    0,    0,    0,    0,    0,    0,\n",
       "           0,    0,    0,    0],\n",
       "       [   0,    0,    0,    0,    0,    0,    0,    0,    0,    0,    0,\n",
       "           0,    0,    0,    0,    0,    0,    0,    0,    0,    0,    0,\n",
       "           0,    0,    0,    0],\n",
       "       [   0,    0,    0,    0,    0,    0,    0,    0,    0,    0,    0,\n",
       "           0,    0,    0,    0,    0,    0,    0,    0,    0,    0,    0,\n",
       "           0,    0,    0,    0],\n",
       "       [   0,    0,    0,    0,    0,    0,    0,    0,    0,    0,    0,\n",
       "           0,    0,    0,    0,    0,    0,    0,    0,    0,    0,    0,\n",
       "           0,    0,    0,    0],\n",
       "       [   0,    0,    0,    0,    0,    0,    0,    0,    0,    0,    0,\n",
       "           0,    0,    0,    0,    0,    0,    0,    0,    0,    0,    0,\n",
       "           0,    0,    0,    0],\n",
       "       [   0,    0,    0,    0,    0,    0,    0,    0,    0,    0,    0,\n",
       "           0,    0,    0,    0,    0,    0,    0,    0,    0,    0,    0,\n",
       "           0,    0,    0,    0],\n",
       "       [   0,    0,    0,    0,    0,    0,    0,    0,    0,    0,    0,\n",
       "           0,    0,    0,    0,    0,    0,    0,    0,    0,    0,    0,\n",
       "           0,    0,    0,    0],\n",
       "       [   0,    0,    0,    0,    0,    0,    0,    0,    0,    0,    0,\n",
       "           0,    0,    0,    0,    0,    0,    0,    0,    0,    0,    0,\n",
       "           0,    0,    0,    0],\n",
       "       [   0,    0,    0,    0,    0,    0,    0,    0,    0,    0,    0,\n",
       "           0,    0,    0,    0,    0,    0,    0,    0,    0,    0,    0,\n",
       "           0,    0,    0,    0]])"
      ]
     },
     "execution_count": 14,
     "metadata": {},
     "output_type": "execute_result"
    }
   ],
   "source": [
    "# Error analysis\n",
    "confusion_matrix(predicted, y_test)\n"
   ]
  },
  {
   "cell_type": "code",
   "execution_count": 15,
   "metadata": {
    "collapsed": true
   },
   "outputs": [],
   "source": [
    "def transform_age(data):\n",
    "    data[data<14] = 0 # question mark!\n",
    "    data[(data>16)&(data<24)] = 0\n",
    "    data[(data>26)&(data<34)] = 0\n",
    "    data[(data>36)&(data<44)] = 0  \n",
    "    data[data>46] = 0\n",
    "    \n",
    "    data[data==14] = 14\n",
    "    data[data==15] = 14\n",
    "    data[data==16] = 14\n",
    "    data[data==24] = 24\n",
    "    data[data==25] = 24\n",
    "    data[data==26] = 24\n",
    "    data[data==34] = 34\n",
    "    data[data==35] = 34\n",
    "    data[data==36] = 34\n",
    "    data[data==44] = 44\n",
    "    data[data==45] = 44\n",
    "    data[data==46] = 46\n",
    "    "
   ]
  },
  {
   "cell_type": "code",
   "execution_count": 16,
   "metadata": {
    "collapsed": true
   },
   "outputs": [],
   "source": [
    "# transform into a for more similar to final\n",
    "pred = predicted\n",
    "y = y_test\n",
    "transform_age(pred)\n",
    "transform_age(y)"
   ]
  },
  {
   "cell_type": "code",
   "execution_count": 17,
   "metadata": {
    "collapsed": false
   },
   "outputs": [
    {
     "data": {
      "text/plain": [
       "0.46356797776356135"
      ]
     },
     "execution_count": 17,
     "metadata": {},
     "output_type": "execute_result"
    }
   ],
   "source": [
    "# Figuring out what this will \n",
    "predicted = text_clf.predict(X_test)\n",
    "accuracy_score(pred,y)"
   ]
  },
  {
   "cell_type": "code",
   "execution_count": null,
   "metadata": {
    "collapsed": true
   },
   "outputs": [],
   "source": []
  },
  {
   "cell_type": "code",
   "execution_count": 18,
   "metadata": {
    "collapsed": false
   },
   "outputs": [
    {
     "data": {
      "text/plain": [
       "array([[    0,     0,     0,     0,     0,     0,     0,     0,     0,\n",
       "            0],\n",
       "       [    2,    13,     0,     0,     0,     0,     0,     0,     0,\n",
       "            0],\n",
       "       [    8,   110,     0,     0,     4,     0,     0,     1,     0,\n",
       "            0],\n",
       "       [ 1295,  4127,     0,     0,   529,     0,     0,    19,     2,\n",
       "            7],\n",
       "       [10361,  8769,     0,     0, 16482,     0,     0,  2547,   429,\n",
       "          101],\n",
       "       [  105,    68,     0,     0,   222,     0,     0,    15,     7,\n",
       "            2],\n",
       "       [   28,    13,     0,     0,    60,     0,     0,     2,     2,\n",
       "            1],\n",
       "       [    0,     0,     0,     0,     0,     0,     0,     0,     0,\n",
       "            0],\n",
       "       [    0,     0,     0,     0,     0,     0,     0,     0,     0,\n",
       "            0],\n",
       "       [    0,     0,     0,     0,     0,     0,     0,     0,     0,\n",
       "            0]])"
      ]
     },
     "execution_count": 18,
     "metadata": {},
     "output_type": "execute_result"
    }
   ],
   "source": [
    "# Error analysis\n",
    "confusion_matrix(predicted, y_test)\n"
   ]
  },
  {
   "cell_type": "code",
   "execution_count": 19,
   "metadata": {
    "collapsed": false
   },
   "outputs": [
    {
     "data": {
      "text/plain": [
       "0.46356797776356135"
      ]
     },
     "execution_count": 19,
     "metadata": {},
     "output_type": "execute_result"
    }
   ],
   "source": [
    "# How often it was close enough:\n",
    "# Is able to tell within a range of 3 years either side.\n",
    "predicted = text_clf.predict(X_test)\n",
    "np.mean(abs(predicted - y_test) < 3)"
   ]
  },
  {
   "cell_type": "code",
   "execution_count": 20,
   "metadata": {
    "collapsed": false
   },
   "outputs": [
    {
     "name": "stderr",
     "output_type": "stream",
     "text": [
      "/Users/chris/anaconda/lib/python3.6/site-packages/sklearn/linear_model/stochastic_gradient.py:117: DeprecationWarning: n_iter parameter is deprecated in 0.19 and will be removed in 0.21. Use max_iter and tol instead.\n",
      "  DeprecationWarning)\n"
     ]
    },
    {
     "data": {
      "text/plain": [
       "0.4196686594162935"
      ]
     },
     "execution_count": 20,
     "metadata": {},
     "output_type": "execute_result"
    }
   ],
   "source": [
    "# Using support vector machines!\n",
    "# Training Support Vector Machines - SVM and calculating its performance\n",
    "\n",
    "# Using it on the ? values\n",
    "\n",
    "from sklearn.linear_model import SGDClassifier\n",
    "svm_classifier = Pipeline([('clf-svm', SGDClassifier(n_iter=10))])\n",
    "\n",
    "svm_classifier = svm_classifier.fit(X_top10_train, y_top10_train)\n",
    "svm_classifier = svm_classifier.predict(X_top10_test)\n",
    "accuracy_score(predicted_svm, y_top10_test)\n",
    "\n"
   ]
  },
  {
   "cell_type": "code",
   "execution_count": 21,
   "metadata": {
    "collapsed": false
   },
   "outputs": [
    {
     "name": "stderr",
     "output_type": "stream",
     "text": [
      "/Users/chris/anaconda/lib/python3.6/site-packages/sklearn/linear_model/stochastic_gradient.py:117: DeprecationWarning: n_iter parameter is deprecated in 0.19 and will be removed in 0.21. Use max_iter and tol instead.\n",
      "  DeprecationWarning)\n"
     ]
    },
    {
     "data": {
      "text/plain": [
       "0.41916128036001854"
      ]
     },
     "execution_count": 21,
     "metadata": {},
     "output_type": "execute_result"
    }
   ],
   "source": [
    "# Using support vector machines!\n",
    "# Training Support Vector Machines - SVM and calculating its performance\n",
    "\n",
    "\n",
    "from sklearn.linear_model import SGDClassifier\n",
    "text_clf_svm = Pipeline([('clf-svm', SGDClassifier(loss='hinge', penalty='l1',alpha=1e-3, n_iter=10, random_state=42))])\n",
    "\n",
    "text_clf_svm = text_clf_svm.fit(X_top10_train, y_top10_train)\n",
    "predicted_svm = text_clf_svm.predict(X_top10_test)\n",
    "accuracy_score(predicted_svm,y_top10_test)"
   ]
  },
  {
   "cell_type": "code",
   "execution_count": 22,
   "metadata": {
    "collapsed": false
   },
   "outputs": [
    {
     "name": "stderr",
     "output_type": "stream",
     "text": [
      "/Users/chris/anaconda/lib/python3.6/site-packages/sklearn/linear_model/stochastic_gradient.py:117: DeprecationWarning: n_iter parameter is deprecated in 0.19 and will be removed in 0.21. Use max_iter and tol instead.\n",
      "  DeprecationWarning)\n"
     ]
    },
    {
     "data": {
      "text/plain": [
       "0.14449273124351988"
      ]
     },
     "execution_count": 22,
     "metadata": {},
     "output_type": "execute_result"
    }
   ],
   "source": [
    "# Training Support Vector Machines - SVM and calculating its performance\n",
    "\n",
    "from sklearn.linear_model import SGDClassifier\n",
    "text_clf_svm = Pipeline([('vect', CountVectorizer()), ('tfidf', TfidfTransformer()),\n",
    "                         ('clf-svm', SGDClassifier(loss='hinge', penalty='l2',alpha=1e-3, n_iter=5, random_state=42))])\n",
    "\n",
    "text_clf_svm = text_clf_svm.fit(X_train, y_train)\n",
    "predicted_svm = text_clf_svm.predict(X_test)\n",
    "np.mean(predicted_svm == y_test)\n"
   ]
  },
  {
   "cell_type": "code",
   "execution_count": 23,
   "metadata": {
    "collapsed": false
   },
   "outputs": [
    {
     "data": {
      "text/plain": [
       "0.46356797776356135"
      ]
     },
     "execution_count": 23,
     "metadata": {},
     "output_type": "execute_result"
    }
   ],
   "source": [
    "# The numbers that were close enough\n",
    "predicted_svm = text_clf.predict(X_test)\n",
    "np.mean(abs(predicted_svm - y_test) < 3)"
   ]
  },
  {
   "cell_type": "code",
   "execution_count": 24,
   "metadata": {
    "collapsed": false
   },
   "outputs": [
    {
     "data": {
      "text/plain": [
       "array([[    0,     0,     0,     0,     0,     0,     0,     0,     0,\n",
       "            0],\n",
       "       [    2,    13,     0,     0,     0,     0,     0,     0,     0,\n",
       "            0],\n",
       "       [    8,   110,     0,     0,     4,     0,     0,     1,     0,\n",
       "            0],\n",
       "       [ 1295,  4127,     0,     0,   529,     0,     0,    19,     2,\n",
       "            7],\n",
       "       [10361,  8769,     0,     0, 16482,     0,     0,  2547,   429,\n",
       "          101],\n",
       "       [  105,    68,     0,     0,   222,     0,     0,    15,     7,\n",
       "            2],\n",
       "       [   28,    13,     0,     0,    60,     0,     0,     2,     2,\n",
       "            1],\n",
       "       [    0,     0,     0,     0,     0,     0,     0,     0,     0,\n",
       "            0],\n",
       "       [    0,     0,     0,     0,     0,     0,     0,     0,     0,\n",
       "            0],\n",
       "       [    0,     0,     0,     0,     0,     0,     0,     0,     0,\n",
       "            0]])"
      ]
     },
     "execution_count": 24,
     "metadata": {},
     "output_type": "execute_result"
    }
   ],
   "source": [
    "# Error analysis\n",
    "confusion_matrix(predicted_svm, y_test)\n"
   ]
  },
  {
   "cell_type": "code",
   "execution_count": 28,
   "metadata": {
    "collapsed": false
   },
   "outputs": [
    {
     "data": {
      "text/plain": [
       "KNeighborsClassifier(algorithm='auto', leaf_size=30, metric='minkowski',\n",
       "           metric_params=None, n_jobs=1, n_neighbors=3, p=2,\n",
       "           weights='uniform')"
      ]
     },
     "execution_count": 28,
     "metadata": {},
     "output_type": "execute_result"
    }
   ],
   "source": [
    "# K nearest neighbours\n",
    "from sklearn.neighbors import KNeighborsClassifier\n",
    "neigh = KNeighborsClassifier(n_neighbors=3)\n",
    "neigh.fit(X_top10_train, y_top10_train)\n"
   ]
  },
  {
   "cell_type": "code",
   "execution_count": 29,
   "metadata": {
    "collapsed": false
   },
   "outputs": [
    {
     "data": {
      "text/plain": [
       "0.25421896715272108"
      ]
     },
     "execution_count": 29,
     "metadata": {},
     "output_type": "execute_result"
    }
   ],
   "source": [
    "predicted = neigh.predict(X_top10_test)\n",
    "#predicted\n",
    "np.mean(predicted == y_top10_test)"
   ]
  },
  {
   "cell_type": "code",
   "execution_count": 31,
   "metadata": {
    "collapsed": false
   },
   "outputs": [
    {
     "data": {
      "text/plain": [
       "array([[2382, 1137,   65,   16, 1005],\n",
       "       [4459, 8209, 1585,  280, 5035],\n",
       "       [6256, 7946,  932,  254, 5755],\n",
       "       [   3,    5,    2,    1,    4],\n",
       "       [   0,    0,    0,    0,    0]])"
      ]
     },
     "execution_count": 31,
     "metadata": {},
     "output_type": "execute_result"
    }
   ],
   "source": [
    "confusion_matrix(predicted, y_top10_test)"
   ]
  },
  {
   "cell_type": "code",
   "execution_count": null,
   "metadata": {
    "collapsed": false
   },
   "outputs": [],
   "source": [
    "predicted_knn = neigh.predict(X_top10_test)\n",
    "np.mean(abs(predicted_knn - y_top10_test) < 3)"
   ]
  },
  {
   "cell_type": "code",
   "execution_count": null,
   "metadata": {
    "collapsed": false
   },
   "outputs": [],
   "source": [
    "from sklearn.metrics import confusion_matrix\n",
    "y_top10_test[0]\n",
    "confusion_matrix(predicted, y_top10_test, labels=[\"14-16\", \"24-26\", \"34-36\", \"44-46\", \"?\"]) #,labels=[\"ant\", \"bird\", \"cat\"])"
   ]
  },
  {
   "cell_type": "code",
   "execution_count": null,
   "metadata": {
    "collapsed": false
   },
   "outputs": [
    {
     "name": "stdout",
     "output_type": "stream",
     "text": [
      "0.254218967153\n",
      "0.401932452406\n",
      "0.401579493062\n",
      "0.410866735788\n"
     ]
    }
   ],
   "source": []
  },
  {
   "cell_type": "code",
   "execution_count": null,
   "metadata": {
    "collapsed": true
   },
   "outputs": [],
   "source": [
    "# Holy moly is above slow! Used 7"
   ]
  },
  {
   "cell_type": "code",
   "execution_count": 7,
   "metadata": {
    "collapsed": false
   },
   "outputs": [
    {
     "data": {
      "text/plain": [
       "array([[0, 0, 0, ..., 0, 0, 0],\n",
       "       [0, 0, 0, ..., 2, 0, 0],\n",
       "       [0, 0, 0, ..., 1, 0, 0],\n",
       "       ..., \n",
       "       [0, 0, 0, ..., 3, 0, 0],\n",
       "       [0, 0, 0, ..., 2, 0, 0],\n",
       "       [0, 0, 0, ..., 1, 0, 0]], dtype=object)"
      ]
     },
     "execution_count": 7,
     "metadata": {},
     "output_type": "execute_result"
    }
   ],
   "source": [
    "X_top10_train[0:100]"
   ]
  },
  {
   "cell_type": "code",
   "execution_count": 13,
   "metadata": {
    "collapsed": true
   },
   "outputs": [],
   "source": [
    "x = X_top10_train[0:500]\n",
    "y = y_top10_train[0:500]"
   ]
  },
  {
   "cell_type": "code",
   "execution_count": null,
   "metadata": {
    "collapsed": false
   },
   "outputs": [],
   "source": [
    "from sklearn.svm import SVC\n",
    "svc_classifier = SVC()\n",
    "svc_classifier.fit(X_top10_train, y_top10_train)"
   ]
  },
  {
   "cell_type": "code",
   "execution_count": null,
   "metadata": {
    "collapsed": false
   },
   "outputs": [],
   "source": [
    "predicted = svc_classifier.predict(X_top10_test)\n",
    "np.mean(predicted == y_top10_test)"
   ]
  },
  {
   "cell_type": "code",
   "execution_count": null,
   "metadata": {
    "collapsed": false
   },
   "outputs": [],
   "source": [
    "print(confusion_matrix(predicted, y_top10_test, labels=[\"14-16\", \"24-26\", \"34-36\", \"44-46\", \"?\"]))"
   ]
  },
  {
   "cell_type": "code",
   "execution_count": 7,
   "metadata": {
    "collapsed": false
   },
   "outputs": [
    {
     "data": {
      "text/plain": [
       "45331"
      ]
     },
     "execution_count": 7,
     "metadata": {},
     "output_type": "execute_result"
    }
   ],
   "source": [
    "len(X_top10_test)"
   ]
  },
  {
   "cell_type": "code",
   "execution_count": 12,
   "metadata": {
    "collapsed": false
   },
   "outputs": [
    {
     "data": {
      "text/plain": [
       "212.91077943589423"
      ]
     },
     "execution_count": 12,
     "metadata": {},
     "output_type": "execute_result"
    }
   ],
   "source": [
    "# Choosing k based off standard\n",
    "k = (len(X_top10_test))**(1/2)"
   ]
  },
  {
   "cell_type": "code",
   "execution_count": 17,
   "metadata": {
    "collapsed": true
   },
   "outputs": [],
   "source": []
  },
  {
   "cell_type": "code",
   "execution_count": 18,
   "metadata": {
    "collapsed": false
   },
   "outputs": [
    {
     "name": "stdout",
     "output_type": "stream",
     "text": [
      "0.275330347886\n"
     ]
    }
   ],
   "source": [
    "# K nearest neighbours\n",
    "\n",
    "from sklearn.neighbors import KNeighborsClassifier\n",
    "neigh = KNeighborsClassifier(n_neighbors=k)\n",
    "neigh.fit(X_top10_train, y_top10_train)\n",
    "predicted = neigh.predict(X_top10_test)\n",
    "#predicted\n",
    "print(np.mean(predicted == y_top10_test))\n"
   ]
  },
  {
   "cell_type": "code",
   "execution_count": null,
   "metadata": {
    "collapsed": true
   },
   "outputs": [],
   "source": [
    "for k in range(100, 300):\n",
    "\n",
    "    from sklearn.neighbors import KNeighborsClassifier\n",
    "    neigh = KNeighborsClassifier(n_neighbors=k)\n",
    "    neigh.fit(X_top10_train, y_top10_train)\n",
    "    predicted = neigh.predict(X_top10_test)\n",
    "    #predicted\n",
    "    print(k, np.mean(predicted == y_top10_test))"
   ]
  },
  {
   "cell_type": "code",
   "execution_count": null,
   "metadata": {
    "collapsed": false
   },
   "outputs": [],
   "source": [
    "# FINAL PREDICTION\n",
    "# Uses K nearest neighbours that I found to perform the best\n",
    "# The predictor\n",
    "\n",
    "from sklearn.neighbors import KNeighborsClassifier\n",
    "neigh = KNeighborsClassifier(n_neighbors=101)\n",
    "neigh.fit(X_top10_train, y_top10_train)\n",
    "predicted = neigh.predict(X_final_top10)\n",
    "#predicted\n",
    "print(predicted)\n"
   ]
  },
  {
   "cell_type": "code",
   "execution_count": null,
   "metadata": {
    "collapsed": true
   },
   "outputs": [],
   "source": [
    "f= open(\"prediction.txt\",\"w+\")\n",
    "for i in predicted:\n",
    "     f.write(i)\n",
    "f.close()\n",
    "\n"
   ]
  },
  {
   "cell_type": "code",
   "execution_count": null,
   "metadata": {
    "collapsed": true
   },
   "outputs": [],
   "source": []
  }
 ],
 "metadata": {
  "kernelspec": {
   "display_name": "Python 3",
   "language": "python",
   "name": "python3"
  },
  "language_info": {
   "codemirror_mode": {
    "name": "ipython",
    "version": 3
   },
   "file_extension": ".py",
   "mimetype": "text/x-python",
   "name": "python",
   "nbconvert_exporter": "python",
   "pygments_lexer": "ipython3",
   "version": "3.6.0"
  }
 },
 "nbformat": 4,
 "nbformat_minor": 2
}
